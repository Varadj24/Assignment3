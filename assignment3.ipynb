{
 "cells": [
  {
   "cell_type": "code",
   "execution_count": 1,
   "id": "ffb93276-76f5-4a3f-b2de-b09bdb7d1471",
   "metadata": {},
   "outputs": [],
   "source": [
    "#Q1. Which keyword is used to create a function? Create a function to return a list of odd numbers in the range of 1 to 25."
   ]
  },
  {
   "cell_type": "code",
   "execution_count": 5,
   "id": "611f25a9-f73e-455c-815b-a6e4b67b83fa",
   "metadata": {},
   "outputs": [],
   "source": [
    "def test() :\n",
    "    odd_numbers = []\n",
    "    for i in range(1, 26):\n",
    "        if i % 2 != 0:\n",
    "            odd_numbers.append(i)\n",
    "    return odd_numbers"
   ]
  },
  {
   "cell_type": "code",
   "execution_count": 6,
   "id": "ef5869f7-058a-44c2-ba87-0539376eaa90",
   "metadata": {},
   "outputs": [
    {
     "data": {
      "text/plain": [
       "[1, 3, 5, 7, 9, 11, 13, 15, 17, 19, 21, 23, 25]"
      ]
     },
     "execution_count": 6,
     "metadata": {},
     "output_type": "execute_result"
    }
   ],
   "source": [
    "list(test())"
   ]
  },
  {
   "cell_type": "code",
   "execution_count": null,
   "id": "e576f2e0-1b78-45eb-b760-5700d8641691",
   "metadata": {},
   "outputs": [],
   "source": []
  },
  {
   "cell_type": "code",
   "execution_count": 7,
   "id": "33a50636-ad31-4728-817b-da783e925d81",
   "metadata": {},
   "outputs": [],
   "source": [
    "#Q2.Why *args and **kwargs is used in some functions? Create a function each for *args and **kwargs to demonstrate their use."
   ]
  },
  {
   "cell_type": "code",
   "execution_count": null,
   "id": "e3a0fe87-100a-44f7-ba61-296a899d5b39",
   "metadata": {},
   "outputs": [],
   "source": [
    "'''*args and **kwargs are special syntax in Python used to handle variable-length arguments in functions. \n",
    "They allow functions to accept an arbitrary number of positional \n",
    "arguments (*args) and keyword arguments (**kwargs).'''"
   ]
  },
  {
   "cell_type": "code",
   "execution_count": 8,
   "id": "e0d66feb-0f3f-4d59-afcb-e7b7fa18e76c",
   "metadata": {},
   "outputs": [],
   "source": [
    "#1). *arags\n",
    "def sum_all_numbers(*args):\n",
    "    total = 0\n",
    "    for num in args:\n",
    "        total += num\n",
    "    return total\n"
   ]
  },
  {
   "cell_type": "code",
   "execution_count": 10,
   "id": "1924256f-affc-4bf3-8ba7-8a1189c94243",
   "metadata": {},
   "outputs": [
    {
     "name": "stdout",
     "output_type": "stream",
     "text": [
      "15 60\n"
     ]
    }
   ],
   "source": [
    "list1 = sum_all_numbers(1, 2, 3, 4, 5)\n",
    "list2 = sum_all_numbers(10, 20, 30)\n",
    "\n",
    "print(list1 , list2)"
   ]
  },
  {
   "cell_type": "code",
   "execution_count": 15,
   "id": "c7ddc790-f2bc-4cdb-b9e1-89ba1b5c639b",
   "metadata": {},
   "outputs": [],
   "source": [
    "#2). **kwargs\n",
    "def My_info(**kwargs):\n",
    "    for key, value in kwargs.items():\n",
    "        print(f\"{key}: {value}\")\n",
    "        "
   ]
  },
  {
   "cell_type": "code",
   "execution_count": 16,
   "id": "11f05016-f904-4e49-8160-6855a4911aa2",
   "metadata": {},
   "outputs": [
    {
     "name": "stdout",
     "output_type": "stream",
     "text": [
      "name: Varad\n",
      "age: 21\n",
      "occupation: Engineer\n",
      "city: Beed\n",
      "country: INDIA\n"
     ]
    }
   ],
   "source": [
    "My_info(name=\"Varad\", age=21, occupation=\"Engineer\")\n",
    "My_info(city=\"Beed\", country=\"INDIA\")"
   ]
  },
  {
   "cell_type": "code",
   "execution_count": null,
   "id": "db875a87-aba8-4480-bc76-bd270c74b880",
   "metadata": {},
   "outputs": [],
   "source": []
  },
  {
   "cell_type": "code",
   "execution_count": 17,
   "id": "ccea2467-be79-4288-8189-839545ddc54c",
   "metadata": {},
   "outputs": [],
   "source": [
    "#Q3. What is an iterator in python? Name the method used to initialise the iterator object and the method \n",
    "#used for iteration. Use these methods to print the first five elements of the given list [2, 4, 6, 8, 10, 12, 14, \n",
    "#16, 18, 20]."
   ]
  },
  {
   "cell_type": "code",
   "execution_count": null,
   "id": "903599ab-25b1-45e6-81d8-031c3978c7d8",
   "metadata": {},
   "outputs": [],
   "source": [
    "'''an iterator is an object that implements two methods: __iter__() and __next__().\n",
    "The __iter__() method is used to initialize the iterator object. \n",
    "It returns the iterator object itself.\n",
    "The __next__() method is used to fetch the next element from the iterator"
   ]
  },
  {
   "cell_type": "code",
   "execution_count": 21,
   "id": "3be33da2-d183-4cb6-939e-bedba594eb40",
   "metadata": {},
   "outputs": [
    {
     "name": "stdout",
     "output_type": "stream",
     "text": [
      "2\n",
      "4\n",
      "6\n",
      "8\n",
      "10\n"
     ]
    }
   ],
   "source": [
    "My_list = [2, 4, 6, 8, 10, 12, 14, 16, 18, 20]\n",
    "My_iterator = iter(My_list)\n",
    "for _ in range(5):\n",
    "    try:\n",
    "        element = next(My_iterator)\n",
    "        print(element)\n",
    "    except StopIteration:\n",
    "        print(\"the end.\")\n",
    "        break\n"
   ]
  },
  {
   "cell_type": "code",
   "execution_count": null,
   "id": "b73dc75b-c550-4372-84b6-3235f44472b8",
   "metadata": {},
   "outputs": [],
   "source": []
  },
  {
   "cell_type": "code",
   "execution_count": 1,
   "id": "053cc8c9-ef75-4e1e-8f1d-837caab7a3aa",
   "metadata": {},
   "outputs": [],
   "source": [
    "#Q4. What is a generator function in python? Why yield keyword is used? Give an example of a generator function."
   ]
  },
  {
   "cell_type": "code",
   "execution_count": null,
   "id": "b3a09f79-4415-4ec4-8f76-beee9b57d647",
   "metadata": {},
   "outputs": [],
   "source": [
    "'''Gnerator function is a special type of function that returns an iterator, \n",
    "which can be used to iterate over a sequence of values.\n",
    "the generator function uses the yield keyword to \n",
    "produce a series of values one at a time\n",
    "The yield keyword is used in generator functions to pause the function's\n",
    "execution and produce a value to the caller.'''"
   ]
  },
  {
   "cell_type": "code",
   "execution_count": 5,
   "id": "ebb0be04-39a0-44e1-9079-97c55a91432f",
   "metadata": {},
   "outputs": [
    {
     "name": "stdout",
     "output_type": "stream",
     "text": [
      "0\n",
      "2\n",
      "4\n",
      "6\n",
      "8\n"
     ]
    }
   ],
   "source": [
    "def even_num(n):\n",
    "    i = 0\n",
    "    while i < n :\n",
    "        yield i\n",
    "        i += 2\n",
    "\n",
    "my_gen = even_num(10)\n",
    "\n",
    "for num in my_gen:  \n",
    "    print(num)"
   ]
  },
  {
   "cell_type": "code",
   "execution_count": null,
   "id": "6420585d-2daa-4350-9a4b-4b5a1bafddbd",
   "metadata": {},
   "outputs": [],
   "source": []
  },
  {
   "cell_type": "code",
   "execution_count": 6,
   "id": "8f5aae72-8e66-48f5-aaf7-6d857d8a5332",
   "metadata": {},
   "outputs": [],
   "source": [
    "#Q5. Create a generator function for prime numbers less than 1000. Use the next() method to print the first 20 prime numbers."
   ]
  },
  {
   "cell_type": "code",
   "execution_count": 8,
   "id": "a92e34ab-1d6b-4df6-b626-1777eebd3f56",
   "metadata": {},
   "outputs": [
    {
     "name": "stdout",
     "output_type": "stream",
     "text": [
      "2\n",
      "3\n",
      "5\n",
      "7\n",
      "11\n",
      "13\n",
      "17\n",
      "19\n",
      "23\n",
      "29\n",
      "31\n",
      "37\n",
      "41\n",
      "43\n",
      "47\n",
      "53\n",
      "59\n",
      "61\n",
      "67\n",
      "71\n"
     ]
    }
   ],
   "source": [
    "def is_prime(num):\n",
    "    if num <= 1:\n",
    "        return False\n",
    "    for i in range(2, int(num ** 0.5) + 1):\n",
    "        if num % i == 0:\n",
    "            return False\n",
    "    return True\n",
    "\n",
    "def prime_numbers(limit):\n",
    "    num = 2\n",
    "    count = 0\n",
    "    while count < limit:\n",
    "        if is_prime(num):\n",
    "            yield num\n",
    "            count += 1\n",
    "        num += 1\n",
    "\n",
    "\n",
    "prime_gen = prime_numbers(20)\n",
    "\n",
    "for _ in range(20):\n",
    "    print(next(prime_gen))\n"
   ]
  },
  {
   "cell_type": "code",
   "execution_count": null,
   "id": "69ad34e3-305a-4e85-af26-8c41c6ba2f76",
   "metadata": {},
   "outputs": [],
   "source": []
  },
  {
   "cell_type": "code",
   "execution_count": 9,
   "id": "21b38c94-5367-4cee-acfe-0e4b951a0c31",
   "metadata": {},
   "outputs": [],
   "source": [
    "#Q6.Write a python program to print the first 10 Fibonacci numbers using a while loop"
   ]
  },
  {
   "cell_type": "code",
   "execution_count": 10,
   "id": "a7739f67-e7ca-4b55-bc97-c0d9590dd129",
   "metadata": {},
   "outputs": [
    {
     "name": "stdout",
     "output_type": "stream",
     "text": [
      "[0, 1, 1, 2, 3, 5, 8, 13, 21, 34]\n"
     ]
    }
   ],
   "source": [
    "def fibonacci_sequence(n):\n",
    "    if n <= 0:\n",
    "        return []\n",
    "    elif n == 1:\n",
    "        return [0]\n",
    "    elif n == 2:\n",
    "        return [0, 1]\n",
    "\n",
    "    fib_numbers = [0, 1]\n",
    "    while len(fib_numbers) < n:\n",
    "        next_fib = fib_numbers[-1] + fib_numbers[-2]\n",
    "        fib_numbers.append(next_fib)\n",
    "\n",
    "    return fib_numbers\n",
    "\n",
    "# Print the first 10 Fibonacci numbers\n",
    "first_10_fibonacci = fibonacci_sequence(10)\n",
    "print(first_10_fibonacci)\n"
   ]
  },
  {
   "cell_type": "code",
   "execution_count": null,
   "id": "0753e348-2a99-4548-baef-0c763f0de45f",
   "metadata": {},
   "outputs": [],
   "source": []
  },
  {
   "cell_type": "code",
   "execution_count": 11,
   "id": "0f8bb614-43c1-42e0-8775-7597da06af75",
   "metadata": {},
   "outputs": [],
   "source": [
    "#Q7. Write a List Comprehension to iterate through the given string: ‘pwskills’.Expected output: ['p', 'w', 's', 'k', 'i', 'l', 'l', 's']"
   ]
  },
  {
   "cell_type": "code",
   "execution_count": 12,
   "id": "f1b93cb5-d143-4ad3-8a5a-b2c86e47d6dd",
   "metadata": {},
   "outputs": [
    {
     "name": "stdout",
     "output_type": "stream",
     "text": [
      "['p', 'w', 's', 'k', 'i', 'l']\n"
     ]
    }
   ],
   "source": [
    "input_string = 'pwskills'\n",
    "output_list = [char for i, char in enumerate(input_string) if char not in input_string[:i]]\n",
    "print(output_list)\n"
   ]
  },
  {
   "cell_type": "code",
   "execution_count": null,
   "id": "a83ae90f-4c3f-4891-872f-08cefc085918",
   "metadata": {},
   "outputs": [],
   "source": []
  },
  {
   "cell_type": "code",
   "execution_count": 13,
   "id": "6c6b3b97-c42c-411a-80db-77a2bcca7b86",
   "metadata": {},
   "outputs": [],
   "source": [
    "#Q8.Write a python program to check whether a given number is Palindrome or not using a while loop."
   ]
  },
  {
   "cell_type": "code",
   "execution_count": 14,
   "id": "44b37062-edde-408c-8d7a-60f770611ed7",
   "metadata": {},
   "outputs": [
    {
     "name": "stdout",
     "output_type": "stream",
     "text": [
      "12321 is a palindrome: True\n",
      "45654 is a palindrome: True\n",
      "12345 is a palindrome: False\n"
     ]
    }
   ],
   "source": [
    "def is_palindrome(number):\n",
    "    original_number = number\n",
    "    reversed_number = 0\n",
    "\n",
    "    while number > 0:\n",
    "        digit = number % 10\n",
    "        reversed_number = reversed_number * 10 + digit\n",
    "        number //= 10\n",
    "\n",
    "    return original_number == reversed_number\n",
    "\n",
    "# Test cases\n",
    "num1 = 12321\n",
    "num2 = 45654\n",
    "num3 = 12345\n",
    "\n",
    "print(f\"{num1} is a palindrome: {is_palindrome(num1)}\")\n",
    "print(f\"{num2} is a palindrome: {is_palindrome(num2)}\")\n",
    "print(f\"{num3} is a palindrome: {is_palindrome(num3)}\")\n"
   ]
  },
  {
   "cell_type": "code",
   "execution_count": null,
   "id": "c00c640e-2534-4802-b678-4439759c306c",
   "metadata": {},
   "outputs": [],
   "source": []
  },
  {
   "cell_type": "code",
   "execution_count": 15,
   "id": "2e15a271-50c7-4026-97a2-0d225157bd19",
   "metadata": {},
   "outputs": [],
   "source": [
    "#Q9. Write a code to print odd numbers from 1 to 100 using list comprehension."
   ]
  },
  {
   "cell_type": "code",
   "execution_count": null,
   "id": "bae16916-5f72-4147-88ff-878bb70ef4b7",
   "metadata": {},
   "outputs": [],
   "source": []
  }
 ],
 "metadata": {
  "kernelspec": {
   "display_name": "Python 3 (ipykernel)",
   "language": "python",
   "name": "python3"
  },
  "language_info": {
   "codemirror_mode": {
    "name": "ipython",
    "version": 3
   },
   "file_extension": ".py",
   "mimetype": "text/x-python",
   "name": "python",
   "nbconvert_exporter": "python",
   "pygments_lexer": "ipython3",
   "version": "3.10.8"
  }
 },
 "nbformat": 4,
 "nbformat_minor": 5
}
